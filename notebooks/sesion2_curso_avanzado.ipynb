{
 "cells": [
  {
   "cell_type": "code",
   "execution_count": null,
   "id": "08dae994",
   "metadata": {},
   "outputs": [],
   "source": []
  },
  {
   "cell_type": "markdown",
   "id": "d1d6cd8f",
   "metadata": {},
   "source": [
    "# Operadores\n",
    "\n",
    "### <font color = deepskyblue>Qué son, en qué casos los utilizamos</font> \n",
    "\n",
    "- Los operadores son símbolos matemáticos que llevan a cabo operaciones específicas entre operandos.  \n",
    "- Se usan cuando quieres realizar operaciones matemáticas o comparaciones\n",
    "\n",
    "\n",
    "## <font color = blue>Operadores aritméticos</font>\n",
    "Suma `+`  \n",
    "Resta `-`  \n",
    "Negación `-`  \n",
    "Multiplicación `*`  \n",
    "Exponente `**`  \n",
    "División `/`"
   ]
  },
  {
   "cell_type": "code",
   "execution_count": null,
   "id": "1b028e90",
   "metadata": {},
   "outputs": [],
   "source": []
  },
  {
   "cell_type": "markdown",
   "id": "22c59f1f",
   "metadata": {},
   "source": [
    "### <font color = red>Ejemplos</font>"
   ]
  },
  {
   "cell_type": "code",
   "execution_count": null,
   "id": "a4b2ad3c",
   "metadata": {},
   "outputs": [],
   "source": [
    "o1 = 30\n",
    "o2 = 20"
   ]
  },
  {
   "cell_type": "code",
   "execution_count": null,
   "id": "edd1c0e5",
   "metadata": {},
   "outputs": [],
   "source": []
  },
  {
   "cell_type": "code",
   "execution_count": null,
   "id": "9a5bf06f",
   "metadata": {},
   "outputs": [],
   "source": []
  },
  {
   "cell_type": "code",
   "execution_count": null,
   "id": "73a5940c",
   "metadata": {},
   "outputs": [],
   "source": [
    "s1 = 'atgactaacgagattcnatta'\n",
    "s2 = 'ggacnacagaggtactcga'"
   ]
  },
  {
   "cell_type": "code",
   "execution_count": null,
   "id": "4ce3802a",
   "metadata": {},
   "outputs": [],
   "source": []
  },
  {
   "cell_type": "code",
   "execution_count": null,
   "id": "2a3652ce",
   "metadata": {},
   "outputs": [],
   "source": []
  },
  {
   "cell_type": "markdown",
   "id": "d59d9562",
   "metadata": {},
   "source": [
    "## Operadores booleanos"
   ]
  },
  {
   "cell_type": "code",
   "execution_count": null,
   "id": "3166968b",
   "metadata": {},
   "outputs": [],
   "source": []
  },
  {
   "cell_type": "markdown",
   "id": "e5f39e34",
   "metadata": {},
   "source": [
    "# Comparaciones\n",
    "|Operation|Meaning|\n",
    "|---|---|\n",
    "|`<`|strictly less than|\n",
    "|`<=`|less than or equal|\n",
    "|`>`|strictly greater than|\n",
    "|`>=`|greater than or equal|\n",
    "|`==`|equal|\n",
    "|`!=`|not equal|\n",
    "|`is`|object identity|\n",
    "|`is not`|negated object identity|\n",
    "\n",
    "#### Los resultados boleanos siempre devuelven `False` o `True`"
   ]
  },
  {
   "cell_type": "code",
   "execution_count": null,
   "id": "7c5d29e9",
   "metadata": {},
   "outputs": [],
   "source": []
  },
  {
   "cell_type": "markdown",
   "id": "718ae567",
   "metadata": {},
   "source": [
    "---\n",
    "## <font color = blue>Operadores relacionales y de asignación</font>\n",
    "Menor que `<`  \n",
    "Menor o igual que `<=`   \n",
    "Mayor que `>`  \n",
    "Mayor o igual que `>=`  \n",
    "Igual que `==`  \n",
    "No es igual `!=`   \n",
    "**Los resultados boleanos siempre devuelven `False` o `True`**   \n",
    "Asignación `=`  \n",
    "También están lo de asignación aumentada `+=` y `-=`, aplicada en iteraciones"
   ]
  },
  {
   "cell_type": "code",
   "execution_count": null,
   "id": "c365eabe",
   "metadata": {},
   "outputs": [],
   "source": []
  },
  {
   "cell_type": "markdown",
   "id": "24201ba5",
   "metadata": {},
   "source": [
    "### <font color = red>Ejemplos</font>"
   ]
  },
  {
   "cell_type": "code",
   "execution_count": null,
   "id": "ef4cd953",
   "metadata": {},
   "outputs": [],
   "source": []
  },
  {
   "cell_type": "code",
   "execution_count": null,
   "id": "806d55e1",
   "metadata": {},
   "outputs": [],
   "source": [
    "# asignación aumentada\n",
    "\n",
    "for i in s1:\n",
    "    print(i)"
   ]
  },
  {
   "cell_type": "code",
   "execution_count": null,
   "id": "5e46d6dd",
   "metadata": {},
   "outputs": [],
   "source": []
  },
  {
   "cell_type": "code",
   "execution_count": null,
   "id": "f642627e",
   "metadata": {},
   "outputs": [],
   "source": [
    "# uso del operador `==` para imprimir solo a\n",
    "for i in s1:\n",
    "    print(i)"
   ]
  },
  {
   "cell_type": "code",
   "execution_count": null,
   "id": "a21681d3",
   "metadata": {},
   "outputs": [],
   "source": []
  },
  {
   "cell_type": "code",
   "execution_count": null,
   "id": "a60b4f1f",
   "metadata": {},
   "outputs": [],
   "source": []
  },
  {
   "cell_type": "code",
   "execution_count": null,
   "id": "4cd5119b",
   "metadata": {},
   "outputs": [],
   "source": []
  },
  {
   "cell_type": "markdown",
   "id": "519a8b50",
   "metadata": {},
   "source": [
    "## <font color = blue>Operadores especiales</font>\n",
    "Si un elemento se encuentra dentro de otro `in`  \n",
    "Identidad de objeto `is`   \n",
    "Identidad de objeto negada `is not`   \n",
    "Devuelve verdadero sólo si se cumplen todas las condiciones: `and` (conjunción), se le conoce como `multiplicación lógica`       \n",
    "Devuelve verdadero si se cumple como mínimo una condición: `or` (disyunción), se le conoce como `suma lógica`   \n",
    "<img src=\"https://raw.githubusercontent.com/Bioinformatica2020/Anexos/master/operadores_logicos.jpg\" width = 70%> <br>\n",
    "**Los resultados boleanos siempre devuelven `False` o `True`**"
   ]
  },
  {
   "cell_type": "code",
   "execution_count": null,
   "id": "0b0e7e94",
   "metadata": {},
   "outputs": [],
   "source": []
  },
  {
   "cell_type": "markdown",
   "id": "eb82a8f1",
   "metadata": {},
   "source": [
    "### <font color = red>Ejemplos</font>"
   ]
  },
  {
   "cell_type": "code",
   "execution_count": null,
   "id": "80bbc7f7",
   "metadata": {},
   "outputs": [],
   "source": []
  },
  {
   "cell_type": "code",
   "execution_count": null,
   "id": "cfc16f31",
   "metadata": {},
   "outputs": [],
   "source": []
  },
  {
   "cell_type": "markdown",
   "id": "49e64fd3",
   "metadata": {},
   "source": [
    "## <font color = red>Ejercicio:</font>\n",
    "1. Copia todo el argumento de la figura 1 en una celda\n",
    "2. Define el valor de las variables `a`, `b` y `c` de tal forma que al correr la celda el argumento devuelva `True`\n",
    "3. Haz un desglose de cada comparación `(a operador b)` e imprime el resultado, debe coincidir con la imagen\n",
    "\n",
    "## <font color = red>Ejercicio:</font>\n",
    "1. Copia todo el argumento de la figura 2 en una celda\n",
    "2. Inserta las variables y operadores faltantes de tal forma que al correr la celda el argumento devuelva `False`  \n",
    "3. Haz un desglose de cada comparación `(a operador b)` e imprime el resultado, debe coincidir con la imagen\n",
    "\n",
    "<img src=\"https://raw.githubusercontent.com/Bioinformatica2020/Anexos/master/ejercicios_operadores_logicos.jpg\" width = 60%> <br>"
   ]
  },
  {
   "cell_type": "code",
   "execution_count": null,
   "id": "8afcd356",
   "metadata": {},
   "outputs": [],
   "source": []
  },
  {
   "cell_type": "code",
   "execution_count": null,
   "id": "bc2f8aa3",
   "metadata": {},
   "outputs": [],
   "source": []
  },
  {
   "cell_type": "markdown",
   "id": "1e321176",
   "metadata": {},
   "source": [
    "---\n",
    "# Estructura de datos\n",
    "* ### Listas\n",
    "* ### Tuplas\n",
    "* ### Conjuntos\n",
    "* ### Diccionarios\n",
    "* ### Arreglos <font color = orange>(esta estructura la veremos posteriormente)</font>"
   ]
  },
  {
   "cell_type": "code",
   "execution_count": null,
   "id": "34cea54f",
   "metadata": {},
   "outputs": [],
   "source": []
  },
  {
   "cell_type": "markdown",
   "id": "212cd13f",
   "metadata": {},
   "source": [
    "<img src=\"https://raw.githubusercontent.com/Bioinformatica2020/Anexos/master/extraccion_de_lista.jpg\" width = 80%>"
   ]
  },
  {
   "cell_type": "code",
   "execution_count": null,
   "id": "42bc25b7",
   "metadata": {},
   "outputs": [],
   "source": []
  },
  {
   "cell_type": "code",
   "execution_count": null,
   "id": "8e8be449",
   "metadata": {},
   "outputs": [],
   "source": []
  },
  {
   "cell_type": "markdown",
   "id": "98e0ee8b",
   "metadata": {},
   "source": [
    "## <font color = blue>Listas y tuplas</font>\n",
    "\n",
    "* #### Son de estructura similar\n",
    "* #### Las listas están delimitadas por corchetes `[]` y las tuplas por paréntesis `()`  \n",
    "* #### Las listas son dinámicas y las tuplas estáticas (inmutables)\n",
    "* #### Pueden contener: números, cadenas, funciones, listas, tuplas, arreglos, etc.\n",
    "* #### También pueden contener diferentes objetos.\n",
    "* #### Cada valor es un elemento.\n",
    "\n",
    "El índice de los elementos empieza desde el cero `0`"
   ]
  },
  {
   "cell_type": "code",
   "execution_count": null,
   "id": "9725fcb8",
   "metadata": {},
   "outputs": [],
   "source": []
  },
  {
   "cell_type": "markdown",
   "id": "57c768bb",
   "metadata": {},
   "source": [
    "### <font color = red>ejemplos</font> "
   ]
  },
  {
   "cell_type": "code",
   "execution_count": null,
   "id": "1a21cfa1",
   "metadata": {},
   "outputs": [],
   "source": []
  },
  {
   "cell_type": "code",
   "execution_count": null,
   "id": "26376bb4",
   "metadata": {},
   "outputs": [],
   "source": []
  },
  {
   "cell_type": "code",
   "execution_count": null,
   "id": "d0e4ea1e",
   "metadata": {},
   "outputs": [],
   "source": [
    "# Guardar los resultados de una iteracion"
   ]
  },
  {
   "cell_type": "code",
   "execution_count": null,
   "id": "ef41e6f4",
   "metadata": {},
   "outputs": [],
   "source": []
  },
  {
   "cell_type": "code",
   "execution_count": null,
   "id": "b7798c81",
   "metadata": {},
   "outputs": [],
   "source": []
  },
  {
   "cell_type": "code",
   "execution_count": null,
   "id": "3a316e0a",
   "metadata": {},
   "outputs": [],
   "source": []
  },
  {
   "cell_type": "code",
   "execution_count": null,
   "id": "4a811514",
   "metadata": {},
   "outputs": [],
   "source": []
  },
  {
   "cell_type": "markdown",
   "id": "5c6ff1c8",
   "metadata": {},
   "source": [
    "## <font color = blue>Conjuntos</font>\n",
    "\n",
    "* #### Un `conjunto` es una colección no ordenada y sin elementos repetidos\n",
    "* #### Se usa para verificación de pertenencia y eliminación de entradas duplicadas\n",
    "* #### Los conjuntos soportan operaciones matemáticas como la unión, intersección, diferencia y diferencia simétrica\n",
    "* #### Las llaves `{}` o la función `set()` pueden usarse para crear conjuntos  \n",
    "\n",
    "\n",
    "**Diferencia:** es el conjunto formado por los elementos que pertenecen al conjunto A y no pertenecen al conjunto B.   \n",
    "**Diferencia simétrica:** es el conjunto formado por los elementos que pertenecen a A que no están en B, y los elementos de B que no están en A"
   ]
  },
  {
   "cell_type": "code",
   "execution_count": null,
   "id": "0df49ff4",
   "metadata": {},
   "outputs": [],
   "source": []
  },
  {
   "cell_type": "code",
   "execution_count": null,
   "id": "f2f7f0d0",
   "metadata": {},
   "outputs": [],
   "source": []
  },
  {
   "cell_type": "code",
   "execution_count": null,
   "id": "cbcfa989",
   "metadata": {},
   "outputs": [],
   "source": []
  },
  {
   "cell_type": "code",
   "execution_count": null,
   "id": "b5e5f983",
   "metadata": {},
   "outputs": [],
   "source": []
  },
  {
   "cell_type": "markdown",
   "id": "c7f765f3",
   "metadata": {},
   "source": [
    "## <font color = red>Ejercicio:</font>\n",
    "1. Crear dos conjuntos:\n",
    "   - Uno con esta lista de aminoácidos: RELKLLKHLRHENLICLQDIF, llámalo `set_amino1`\n",
    "   - Otro con esta lista de aminoácidos: ENLICLQDIFLSPLEDIY, llámalo `set_amino2`\n",
    "2. Identifica la intersección\n",
    "3. Cuál es la diferencia entre los conjuntos\n",
    "3. Cuál es la diferencia simétrica entre los conjuntos (set1.symmetric_difference(set2))\n",
    "4. Genera el diagrama de Venn"
   ]
  },
  {
   "cell_type": "code",
   "execution_count": null,
   "id": "be0fb597",
   "metadata": {},
   "outputs": [],
   "source": []
  },
  {
   "cell_type": "code",
   "execution_count": null,
   "id": "48441a7f",
   "metadata": {},
   "outputs": [],
   "source": []
  },
  {
   "cell_type": "code",
   "execution_count": null,
   "id": "b2a0f072",
   "metadata": {},
   "outputs": [],
   "source": [
    "# el símbolo `|` une los dos conjuntos"
   ]
  },
  {
   "cell_type": "code",
   "execution_count": null,
   "id": "f8b63378",
   "metadata": {},
   "outputs": [],
   "source": [
    "# diferencia simétrica"
   ]
  },
  {
   "cell_type": "code",
   "execution_count": null,
   "id": "74ac3a10",
   "metadata": {},
   "outputs": [],
   "source": []
  },
  {
   "cell_type": "code",
   "execution_count": null,
   "id": "0008deae",
   "metadata": {},
   "outputs": [],
   "source": []
  },
  {
   "cell_type": "markdown",
   "id": "138be54f",
   "metadata": {},
   "source": [
    "#### diagrama de Venn 2 y 3 conjuntos"
   ]
  },
  {
   "cell_type": "code",
   "execution_count": null,
   "id": "d71384e3",
   "metadata": {},
   "outputs": [],
   "source": []
  },
  {
   "cell_type": "code",
   "execution_count": null,
   "id": "79ba54e6",
   "metadata": {},
   "outputs": [],
   "source": []
  },
  {
   "cell_type": "code",
   "execution_count": null,
   "id": "fa7d0a44",
   "metadata": {},
   "outputs": [],
   "source": []
  },
  {
   "cell_type": "markdown",
   "id": "fa8a1911",
   "metadata": {},
   "source": [
    "## <font color = blue>Diccionarios</font>\n",
    "\n",
    "* #### Es una estructura de datos que permite almacenar cualquier tipo de objeto\n",
    "* #### Permite identificar cada elemento por una clave\n",
    "* #### Un diccionario está delimitado por llaves\n",
    "* #### Las parejas clave-valor se separan por comas `,`\n",
    "* #### La clave y el valor se separan por dos puntos `:`"
   ]
  },
  {
   "cell_type": "code",
   "execution_count": null,
   "id": "4c08d13a",
   "metadata": {},
   "outputs": [],
   "source": []
  },
  {
   "cell_type": "code",
   "execution_count": null,
   "id": "07092e2e",
   "metadata": {},
   "outputs": [],
   "source": []
  },
  {
   "cell_type": "markdown",
   "id": "cc5cef17",
   "metadata": {},
   "source": [
    "### <font color = red>ejemplos</font> "
   ]
  },
  {
   "cell_type": "code",
   "execution_count": null,
   "id": "14b79260",
   "metadata": {},
   "outputs": [],
   "source": []
  },
  {
   "cell_type": "code",
   "execution_count": null,
   "id": "662d63c0",
   "metadata": {},
   "outputs": [],
   "source": []
  },
  {
   "cell_type": "code",
   "execution_count": null,
   "id": "1dd7fc57",
   "metadata": {},
   "outputs": [],
   "source": []
  },
  {
   "cell_type": "code",
   "execution_count": null,
   "id": "d790e100",
   "metadata": {},
   "outputs": [],
   "source": []
  },
  {
   "cell_type": "code",
   "execution_count": null,
   "id": "7ac6d980",
   "metadata": {},
   "outputs": [],
   "source": [
    "# Guardar los resultados de una iteracion"
   ]
  },
  {
   "cell_type": "code",
   "execution_count": null,
   "id": "10e68e56",
   "metadata": {},
   "outputs": [],
   "source": []
  },
  {
   "cell_type": "code",
   "execution_count": null,
   "id": "619fbf9d",
   "metadata": {},
   "outputs": [],
   "source": []
  },
  {
   "cell_type": "code",
   "execution_count": null,
   "id": "857318fe",
   "metadata": {},
   "outputs": [],
   "source": []
  },
  {
   "cell_type": "markdown",
   "id": "6d6fa2c2",
   "metadata": {},
   "source": [
    "# Programación estructurada\n",
    "\n",
    "## <font color = blue>Estructuras de control de flujo condicionales</font>\n",
    "- ### <font color = limegreen>if</font>, significa \"si\" (condición).\n",
    "- ### <font color = limegreen>elif</font>, es una segunda condición y se evalúa si `if` es `False`\n",
    "- ### <font color = limegreen>else</font>, significa \"si no\".\n",
    "## <font color = red>Los condicionales son las estructuras de control más importantes en toda la programación</font>\n",
    "<img src=\"https://raw.githubusercontent.com/Bioinformatica2020/Anexos/master/if_else.jpg\" width = 60%>\n",
    "\n",
    "<img src=\"https://raw.githubusercontent.com/Bioinformatica2020/Anexos/master/if_elif_else.jpg\" width = 40%>\n",
    "\n",
    "---\n",
    "Puedes ingresar a este sitio, hay varios ejemplos de condicionales  \n",
    "https://www.mclibre.org/consultar/python/lecciones/python-if-else.html\n",
    "\n",
    "---"
   ]
  },
  {
   "cell_type": "code",
   "execution_count": null,
   "id": "f40acb7a",
   "metadata": {},
   "outputs": [],
   "source": []
  },
  {
   "cell_type": "code",
   "execution_count": null,
   "id": "b99accd0",
   "metadata": {},
   "outputs": [],
   "source": []
  },
  {
   "cell_type": "code",
   "execution_count": null,
   "id": "ae813aa9",
   "metadata": {},
   "outputs": [],
   "source": []
  },
  {
   "cell_type": "markdown",
   "id": "ebe2f9af",
   "metadata": {},
   "source": [
    "# <font color = blue>Estructuras de control iterativas</font>\n",
    "---\n",
    "## <font color = red>En informática iteración significa que se van a usar bucles</font>\n",
    "## <font color = red>Un bucle es una parte de código que se repite una y otra vez</font>\n",
    "---\n",
    "\n",
    "# <font color = green>for</font>\n",
    "\n",
    "\n",
    "<img src=\"https://raw.githubusercontent.com/Bioinformatica2020/Anexos/master/for_loop.jpg\" width = 80%> <br>\n",
    "\n",
    "### Iteración <img src=\"https://raw.githubusercontent.com/Bioinformatica2020/Anexos/master/ezgif.com-crop.gif\" width = 40%> <br>\n"
   ]
  },
  {
   "cell_type": "code",
   "execution_count": null,
   "id": "9b8f15fb",
   "metadata": {},
   "outputs": [],
   "source": []
  },
  {
   "cell_type": "code",
   "execution_count": null,
   "id": "65264254",
   "metadata": {},
   "outputs": [],
   "source": []
  },
  {
   "cell_type": "code",
   "execution_count": null,
   "id": "c3efe5f8",
   "metadata": {},
   "outputs": [],
   "source": [
    "# ejemplos"
   ]
  },
  {
   "cell_type": "code",
   "execution_count": null,
   "id": "2f503717",
   "metadata": {},
   "outputs": [],
   "source": []
  },
  {
   "cell_type": "code",
   "execution_count": null,
   "id": "b35b6ffd",
   "metadata": {},
   "outputs": [],
   "source": [
    "# Cómo guardar en una lista un elemento que sale de un bucle for"
   ]
  },
  {
   "cell_type": "code",
   "execution_count": null,
   "id": "046eeae2",
   "metadata": {},
   "outputs": [],
   "source": []
  },
  {
   "cell_type": "code",
   "execution_count": null,
   "id": "2f1443c2",
   "metadata": {},
   "outputs": [],
   "source": []
  },
  {
   "cell_type": "markdown",
   "id": "9c4059e4",
   "metadata": {},
   "source": [
    "# Expresiones regulares\n",
    "- ### Una expresión regular es una secuencia de caracteres que forma un patrón\n",
    "- ### Las expresiones regulares se usan para realizar búsquedas o sustituciones\n",
    "\n",
    "## En informática se denomina metacarácter al carácter que tiene un significado especial en el programa informático en el que se use.\n",
    "- ### Los metacaracteres son interpretados de una forma especial por el lenguaje de programación\n",
    "https://es.wikipedia.org/wiki/Metacar%C3%A1cter\n",
    "### <font color = green>Las expresiones regulares se han usado exitosamente para identificar dominios de proteínas y elementos reguladores</font>\n",
    "https://prosite.expasy.org/scanprosite/\n",
    "\n",
    "<img style=\"float: left;\" src=\"https://raw.githubusercontent.com/Bioinformatica2020/Anexos/master/caracteres.jpg\" width = 100%> <br>\n"
   ]
  },
  {
   "cell_type": "code",
   "execution_count": null,
   "id": "e3675725",
   "metadata": {},
   "outputs": [],
   "source": []
  },
  {
   "cell_type": "markdown",
   "id": "abcfe79c",
   "metadata": {},
   "source": [
    "## ATGTTACCCCCCGCTGCAGCG\n",
    "\n",
    "## `.` coincide con cualquier caracter; ATG.T  ► ATGTT\n",
    "## `^` coincide con el inicio de la cadena; ^ATG ►ATG\n",
    "## `$` coincide con el final de la cadena; GCG$ ►GCG\n",
    "## `*` coincide con cero o más ocurrencias del caracter anterior;  AC* ► A, ACCCCCC, A\n",
    "## `+` coincide con una o más ocurrencias del último caracter; AC+ ► ACCCCCC\n",
    "## `{x}` coincide con exactamente x ocurrencias del patrón; (C){3} ► CCC, CCC\n",
    "### `{x, y}` coincide con al menos x y no más de y ocurrencias; T{1,2} ► T, TT, T\n",
    "## `[]` coincide con un conjunto de caracteres; [A-Z] ► ATGTTACCCCCCGCTGCAGCG\n",
    "## `|` permite definir opciones para el patrón; TT|CG ► TT, CG, CG\n",
    "## `()` agrupa patrones\n",
    " "
   ]
  },
  {
   "cell_type": "code",
   "execution_count": null,
   "id": "4f493fe3",
   "metadata": {},
   "outputs": [],
   "source": [
    "re.findall('T.*T', 'ATGTTAACCCCCCGCTGCAGCG')"
   ]
  },
  {
   "cell_type": "markdown",
   "id": "bde05002",
   "metadata": {},
   "source": [
    "`\\d` Cualquier carácter que sea dígito  \n",
    "`\\D` Cualquier carácter que no sea dígito  \n",
    "`\\w` Cualquier carácter alfanumérico o guión bajo,  =  [a-zA-Z0-9_]  \n",
    "`\\W` Cualquier carácter no alfanumérico  \n",
    "`\\s` Espacio en blanco  \n",
    "`\\S` Cualquier carácter que no sea espacio  \n",
    "`\\t` tabulador  \n",
    "`\\n` salto de línea, nueva línea"
   ]
  },
  {
   "cell_type": "code",
   "execution_count": null,
   "id": "129b5b45",
   "metadata": {},
   "outputs": [],
   "source": []
  },
  {
   "cell_type": "code",
   "execution_count": null,
   "id": "3a8301a0",
   "metadata": {},
   "outputs": [],
   "source": []
  },
  {
   "cell_type": "markdown",
   "id": "5d80245f",
   "metadata": {},
   "source": [
    "# modulo `re`\n",
    "### <font color = green>El módulo `re` provee herramientas de expresiones regulares para un procesamiento avanzado de cadenas, manipulación y coincidencias complejas.</font>\n",
    "\n",
    "\n",
    "## <font color = deeppink>re.sub</font>('`patrón/es`', '`nuevo`', `string`)\n",
    "**Busca todas las coincidencias de un patrón desde el principio de la cadena de caracteres y sustituye las coincidencias con un nuevo texto, y devuelve una cadena de caracteres con el texto modificado**\n",
    "## <font color = deeppink>re.search</font>('`patrón/es`', `string`)\n",
    "**Busca un patrón desde el principio de la cadena de caracteres y al encontrar la primera conicidencia, regresa un objeto**\n",
    "## <font color = deeppink>re.findall</font>('`patrón/es`', `string`)\n",
    "**Busca todas las coincidencias de un patrón desde el principio de la cadena de caracteres y devuelve una lista con todas las coincidencias**\n",
    "## <font color = deeppink>re.finditer</font>('`patrón/es`', `string`)\n",
    "**Busca todas las coincidencias de un patrón desde el principio de la cadena de caracteres y devuelve un iterador con todas las coincidencias**\n",
    "## <font color = deeppink>re.split</font>('`patrón`', `string`)\n",
    "**Busca todas las coincidencias de un patrón desde el principio de la cadena de caracteres y separa los elementos utilizando al patrón como separador. Este regresa una lista de cadenas de caracteres con los textos separados por coma `,`. En caso de no encontrar coincidencias, regresa un objeto de tipo list con el texto original.**\n",
    "\n",
    "---"
   ]
  },
  {
   "cell_type": "code",
   "execution_count": null,
   "id": "490b3756",
   "metadata": {},
   "outputs": [],
   "source": []
  },
  {
   "cell_type": "code",
   "execution_count": null,
   "id": "08d7d21d",
   "metadata": {},
   "outputs": [],
   "source": [
    "import re"
   ]
  },
  {
   "cell_type": "code",
   "execution_count": null,
   "id": "2cd496ea",
   "metadata": {},
   "outputs": [],
   "source": [
    "# encontrar las letras que no corresponden a nucleotidos"
   ]
  },
  {
   "cell_type": "code",
   "execution_count": null,
   "id": "94ecfc3b",
   "metadata": {},
   "outputs": [],
   "source": []
  },
  {
   "cell_type": "code",
   "execution_count": null,
   "id": "1413743a",
   "metadata": {},
   "outputs": [],
   "source": []
  },
  {
   "cell_type": "code",
   "execution_count": null,
   "id": "4d5db1a9",
   "metadata": {},
   "outputs": [],
   "source": []
  }
 ],
 "metadata": {
  "kernelspec": {
   "display_name": "Python 3",
   "language": "python",
   "name": "python3"
  },
  "language_info": {
   "codemirror_mode": {
    "name": "ipython",
    "version": 3
   },
   "file_extension": ".py",
   "mimetype": "text/x-python",
   "name": "python",
   "nbconvert_exporter": "python",
   "pygments_lexer": "ipython3",
   "version": "3.6.7"
  }
 },
 "nbformat": 4,
 "nbformat_minor": 5
}
